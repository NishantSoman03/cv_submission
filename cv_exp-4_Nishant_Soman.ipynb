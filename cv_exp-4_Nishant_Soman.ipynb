{
 "cells": [
  {
   "cell_type": "markdown",
   "id": "22d5d4df",
   "metadata": {},
   "source": [
    "### Expt Number : 4\n",
    "#### Title : Generating Chain-code for edge detection of objects in images\n",
    "PRN number : 1032210233\n",
    "#### Name : Nishant S Soman   \n",
    "Div : A               \n",
    "Batch : A4\n",
    "#### Date of performance : 14/02/2024"
   ]
  },
  {
   "cell_type": "code",
   "execution_count": 73,
   "id": "448d7754",
   "metadata": {},
   "outputs": [],
   "source": [
    "import cv2\n",
    "import numpy as np\n",
    "import matplotlib.pyplot as plt"
   ]
  },
  {
   "cell_type": "code",
   "execution_count": 74,
   "id": "aeacf698",
   "metadata": {},
   "outputs": [
    {
     "name": "stdout",
     "output_type": "stream",
     "text": [
      "(200, 200, 3)\n"
     ]
    },
    {
     "data": {
      "image/png": "[encoded data removed]",
      "text/plain": [
       "<Figure size 640x480 with 1 Axes>"
      ]
     },
     "metadata": {},
     "output_type": "display_data"
    }
   ],
   "source": [
    "image_path ='seven.png'\n",
    "x = cv2.imread(image_path)\n",
    "#x=cv2.resize(x,(200,200))\n",
    "#cv2.imwrite('seven.png', x)\n",
    "plt.imshow(x);\n",
    "print(x.shape)"
   ]
  },
  {
   "cell_type": "code",
   "execution_count": 75,
   "id": "0ac4e3d6",
   "metadata": {},
   "outputs": [
    {
     "data": {
      "text/plain": [
       "'np.uint8'"
      ]
     },
     "execution_count": 75,
     "metadata": {},
     "output_type": "execute_result"
    }
   ],
   "source": [
    "# Generate the 4-direction chain code for edge detection\n",
    "(chain_4d,contour) = (generate_4_direction_chain(image_path))\n",
    "'''np.uint8'''"
   ]
  },
  {
   "cell_type": "code",
   "execution_count": 76,
   "id": "6b31c9e2",
   "metadata": {},
   "outputs": [
    {
     "name": "stdout",
     "output_type": "stream",
     "text": [
      "[1 2 1 1 1 1 0 0 0 0 0 1 1 1 1 1 1 1 1 1 1 1 1 1 1 1 0 0 0 0 0 0 0 3 0 3 0\n",
      " 3 0 3 0 3 0 3 0 3 0 3 0 3 2 3 2 2 2 2 2 2 2]\n"
     ]
    }
   ],
   "source": [
    "print(np.uint8(chain_4d))"
   ]
  },
  {
   "cell_type": "code",
   "execution_count": 77,
   "id": "8694edc9",
   "metadata": {},
   "outputs": [
    {
     "name": "stdout",
     "output_type": "stream",
     "text": [
      "[(77, 83), (76, 84), (74, 84), (72, 86), (72, 87), (71, 88), (71, 89), (73, 91), (88, 91), (89, 90), (111, 90), (114, 93), (114, 94), (113, 95), (113, 97), (107, 103), (107, 104), (102, 109), (102, 110), (100, 112), (100, 113), (98, 115), (98, 116), (94, 120), (94, 121), (93, 122), (93, 124), (94, 125), (96, 125), (97, 126), (98, 125), (103, 125), (106, 122), (107, 122), (107, 121), (115, 113), (115, 112), (118, 109), (118, 108), (120, 106), (120, 105), (121, 104), (121, 103), (123, 101), (123, 100), (124, 99), (124, 98), (125, 97), (125, 96), (126, 95), (126, 92), (125, 91), (125, 90), (121, 86), (119, 86), (118, 85), (117, 85), (116, 84), (112, 84), (111, 83)]\n"
     ]
    }
   ],
   "source": [
    "#print(contour[0])\n",
    "conter=[]\n",
    "for i in range(len(contour)):\n",
    "    conter.append(contour[i])\n",
    "\n",
    "conter = [tuple(point[0]) for point in contour]\n",
    "print(conter)"
   ]
  },
  {
   "cell_type": "code",
   "execution_count": 78,
   "id": "ee7c35f4",
   "metadata": {},
   "outputs": [
    {
     "name": "stdout",
     "output_type": "stream",
     "text": [
      "[3, 4, 3, 2, 3, 2, 1, 0, 7, 0, 1, 2, 3, 2, 3, 2, 3, 2, 3, 2, 3, 2, 3, 2, 3, 2, 1, 0, 1, 7, 0, 7, 0, 6, 7, 6, 7, 6, 7, 6, 7, 6, 7, 6, 7, 6, 7, 6, 7, 6, 5, 6, 5, 4, 5, 4, 5, 4, 5]\n"
     ]
    }
   ],
   "source": [
    "# Generate the 8-direction chain code for edge detection\n",
    "chain_8d,contour_ = (generate_8_direction_chain(image_path))\n",
    "print(chain_8d)"
   ]
  },
  {
   "cell_type": "code",
   "execution_count": 45,
   "id": "1ac1809c",
   "metadata": {},
   "outputs": [
    {
     "name": "stdout",
     "output_type": "stream",
     "text": [
      "[3 4 3 2 3 2 1 0 7 0 1 2 3 2 3 2 3 2 3 2 3 2 3 2 3 2 1 0 1 7 0 7 0 6 7 6 7\n",
      " 6 7 6 7 6 7 6 7 6 7 6 7 6 5 6 5 4 5 4 5 4 5]\n"
     ]
    }
   ],
   "source": [
    "print(np.uint8(chain_8d))"
   ]
  },
  {
   "cell_type": "markdown",
   "id": "77d20795",
   "metadata": {},
   "source": [
    "------------------------------------"
   ]
  },
  {
   "cell_type": "markdown",
   "id": "1962ac28",
   "metadata": {},
   "source": [
    "##### Reqired Functions"
   ]
  },
  {
   "cell_type": "code",
   "execution_count": null,
   "id": "7da9894e",
   "metadata": {},
   "outputs": [],
   "source": []
  },
  {
   "cell_type": "code",
   "execution_count": 82,
   "id": "f89fcb9f",
   "metadata": {},
   "outputs": [],
   "source": [
    "def get_4_direction(prev_point, current_point):\n",
    "    x_diff = current_point[0] - prev_point[0]\n",
    "    y_diff = current_point[1] - prev_point[1]\n",
    "\n",
    "    if x_diff > 0:\n",
    "        return 0  # Positive x-direction\n",
    "    elif y_diff > 0:\n",
    "        return 1  # Positive y-direction\n",
    "    elif x_diff < 0:\n",
    "        return 2  # Negative x-direction\n",
    "    elif y_diff < 0:\n",
    "        return 3  # Negative y-direction\n",
    "    else:\n",
    "        return -1  # No movement\n",
    "\n",
    "def generate_4_direction_chain(image_path):\n",
    "    # Read the image\n",
    "    image = cv2.imread(image_path)\n",
    "\n",
    "    # Convert the image to grayscale\n",
    "    gray_image = cv2.cvtColor(image, cv2.COLOR_BGR2GRAY)\n",
    "\n",
    "    # Threshold the image to obtain a binary image (adjust the threshold as needed)\n",
    "    _, binary_image = cv2.threshold(gray_image, 127, 255, cv2.THRESH_BINARY)\n",
    "\n",
    "    # Find contours in the binary image\n",
    "    contours, _ = cv2.findContours(binary_image, cv2.RETR_EXTERNAL, cv2.CHAIN_APPROX_SIMPLE)\n",
    "\n",
    "    # Assuming the largest contour represents the object of interest\n",
    "    largest_contour = max(contours, key=cv2.contourArea)\n",
    "\n",
    "    # Draw the contour on a copy of the original image\n",
    "    result_image = image.copy()\n",
    "    cv2.drawContours(result_image, [largest_contour], -1, (0, 255, 0), 2)\n",
    "\n",
    "    # Save the result image\n",
    "    cv2.imwrite('result_img_4d.png', result_image)\n",
    "\n",
    "    # Extract chain code from the largest contour using the restricted movement function\n",
    "    chain_code = []\n",
    "    prev_point = largest_contour[0][0]\n",
    "    for point in largest_contour[1:]:\n",
    "        current_point = point[0]\n",
    "        direction = get_4_direction(prev_point, current_point)\n",
    "        if direction != -1:  # Ignore points with no movement\n",
    "            chain_code.append(direction)\n",
    "        prev_point = current_point\n",
    "\n",
    "    return (chain_code,largest_contour)"
   ]
  },
  {
   "cell_type": "code",
   "execution_count": 83,
   "id": "05ffe11a",
   "metadata": {},
   "outputs": [],
   "source": [
    "def get_8_direction(prev_point, current_point):\n",
    "    x_diff = current_point[0] - prev_point[0]\n",
    "    y_diff = current_point[1] - prev_point[1]\n",
    "\n",
    "    if x_diff > 0:\n",
    "        if y_diff > 0:\n",
    "            return 1#######  # Diagonal movement: Positive x, Positive y\n",
    "        elif y_diff < 0:\n",
    "            return 7  # Diagonal movement: Positive x, Negative y (Anticlockwise)\n",
    "        else:\n",
    "            return 0########  # Horizontal movement: Positive x, No change in y\n",
    "    elif x_diff < 0:\n",
    "        if y_diff > 0:\n",
    "            return 3#######  # Diagonal movement: Negative x, Positive y (Anticlockwise)\n",
    "        elif y_diff < 0:\n",
    "            return 5#######  # Diagonal movement: Negative x, Negative y (Anticlockwise)\n",
    "        else:\n",
    "            return 4########  # Horizontal movement: Negative x, No change in y\n",
    "    else:\n",
    "        if y_diff > 0:\n",
    "            return 2#######  # Vertical movement: No change in x, Positive y\n",
    "        elif y_diff < 0:\n",
    "            return 6#######  # Vertical movement: No change in x, Negative y (Anticlockwise)\n",
    "        else:\n",
    "            return -1  # No movement\n",
    "\n",
    "\n",
    "def generate_8_direction_chain(image_path):\n",
    "    # Read the image\n",
    "    image = cv2.imread(image_path)\n",
    "\n",
    "    # Convert the image to grayscale\n",
    "    gray_image = cv2.cvtColor(image, cv2.COLOR_BGR2GRAY)\n",
    "\n",
    "    # Threshold the image to obtain a binary image (adjust the threshold as needed)\n",
    "    _, binary_image = cv2.threshold(gray_image, 127, 255, cv2.THRESH_BINARY)\n",
    "\n",
    "    # Find contours in the binary image\n",
    "    contours, _ = cv2.findContours(binary_image, cv2.RETR_EXTERNAL, cv2.CHAIN_APPROX_SIMPLE)\n",
    "\n",
    "    # Assuming the largest contour represents the object of interest\n",
    "    largest_contour = max(contours, key=cv2.contourArea)\n",
    "\n",
    "    # Draw the contour on a copy of the original image\n",
    "    result_image = image.copy()\n",
    "    cv2.drawContours(result_image, [largest_contour], -1, (0, 255, 0), 2)\n",
    "\n",
    "    # Save the result image\n",
    "    cv2.imwrite('result_img_8d.png', result_image)\n",
    "\n",
    "    # Extract chain code from the largest contour using the restricted movement function\n",
    "    chain_code = []\n",
    "    prev_point = largest_contour[0][0]\n",
    "    for point in largest_contour[1:]:\n",
    "        current_point = point[0]\n",
    "        direction = get_8_direction(prev_point, current_point)\n",
    "        if direction != -1:  # Ignore points with no movement\n",
    "            chain_code.append(direction)\n",
    "        prev_point = current_point\n",
    "\n",
    "    return (chain_code,largest_contour)"
   ]
  },
  {
   "cell_type": "code",
   "execution_count": 86,
   "id": "7d4af496",
   "metadata": {},
   "outputs": [
    {
     "data": {
      "image/png": "[encoded data removed]",
      "text/plain": [
       "<Figure size 640x480 with 1 Axes>"
      ]
     },
     "metadata": {},
     "output_type": "display_data"
    }
   ],
   "source": [
    "a=cv2.imread('result_img_4d.png');\n",
    "plt.imshow(a);\n",
    "plt.axis('off');"
   ]
  },
  {
   "cell_type": "code",
   "execution_count": 87,
   "id": "86ac660a",
   "metadata": {},
   "outputs": [
    {
     "data": {
      "image/png": "[encoded data removed]",
      "text/plain": [
       "<Figure size 640x480 with 1 Axes>"
      ]
     },
     "metadata": {},
     "output_type": "display_data"
    }
   ],
   "source": [
    "b=cv2.imread('result_img_8d.png');\n",
    "plt.imshow(b);\n",
    "plt.axis('off');"
   ]
  },
  {
   "cell_type": "code",
   "execution_count": null,
   "id": "677b5373",
   "metadata": {},
   "outputs": [],
   "source": []
  }
 ],
 "metadata": {
  "kernelspec": {
   "display_name": "Python 3 (ipykernel)",
   "language": "python",
   "name": "python3"
  },
  "language_info": {
   "codemirror_mode": {
    "name": "ipython",
    "version": 3
   },
   "file_extension": ".py",
   "mimetype": "text/x-python",
   "name": "python",
   "nbconvert_exporter": "python",
   "pygments_lexer": "ipython3",
   "version": "3.11.5"
  }
 },
 "nbformat": 4,
 "nbformat_minor": 5
}
