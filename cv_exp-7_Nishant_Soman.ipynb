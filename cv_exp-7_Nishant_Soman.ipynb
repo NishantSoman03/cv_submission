{
 "cells": [
  {
   "cell_type": "markdown",
   "metadata": {
    "id": "6ChVYm17X6W_"
   },
   "source": [
    "**CV EXP 7**\n",
    "\n",
    "**Disparity Estimation / Depth map generation**"
   ]
  },
  {
   "cell_type": "markdown",
   "metadata": {
    "id": "dMmCAWlWYEFf"
   },
   "source": [
    "Name: Nishant Soman\n",
    "\n",
    "PRN: 1032210233\n",
    "\n",
    "Division: A\n",
    "\n",
    "Batch: A-4\n",
    "\n",
    "Date: 17 April 2024"
   ]
  },
  {
   "cell_type": "code",
   "execution_count": 1,
   "metadata": {
    "executionInfo": {
     "elapsed": 527,
     "status": "ok",
     "timestamp": 1713948245372,
     "user": {
      "displayName": "Saanvi Kulkarni",
      "userId": "06758947705949205524"
     },
     "user_tz": -330
    },
    "id": "MYLnmTqobQQE"
   },
   "outputs": [],
   "source": [
    "import cv2\n",
    "import numpy as np\n",
    "import matplotlib.pyplot as plt"
   ]
  },
  {
   "cell_type": "code",
   "execution_count": 2,
   "metadata": {
    "executionInfo": {
     "elapsed": 1,
     "status": "ok",
     "timestamp": 1713948245927,
     "user": {
      "displayName": "Saanvi Kulkarni",
      "userId": "06758947705949205524"
     },
     "user_tz": -330
    },
    "id": "J5pN-KsQbSgl"
   },
   "outputs": [],
   "source": [
    "left_image = cv2.imread(\"stereo-corridor_l.png\");\n",
    "right_image = cv2.imread(\"stereo-corridor_r.png\");"
   ]
  },
  {
   "cell_type": "code",
   "execution_count": 3,
   "metadata": {
    "executionInfo": {
     "elapsed": 1,
     "status": "ok",
     "timestamp": 1713948245927,
     "user": {
      "displayName": "Saanvi Kulkarni",
      "userId": "06758947705949205524"
     },
     "user_tz": -330
    },
    "id": "-_pw02yIbY_M"
   },
   "outputs": [],
   "source": [
    "# Step 2: Ensure shape, size, dtype are the same\n",
    "assert left_image.shape == right_image.shape, \"Images should have the same dimensions\"\n",
    "assert left_image.dtype == right_image.dtype, \"Images should have the same data type\""
   ]
  },
  {
   "cell_type": "code",
   "execution_count": 4,
   "metadata": {
    "executionInfo": {
     "elapsed": 2,
     "status": "ok",
     "timestamp": 1713948245928,
     "user": {
      "displayName": "Saanvi Kulkarni",
      "userId": "06758947705949205524"
     },
     "user_tz": -330
    },
    "id": "Did4N9P8bbXF"
   },
   "outputs": [],
   "source": [
    "# Step 3: Convert images to grayscale\n",
    "left_gray = cv2.cvtColor(left_image, cv2.COLOR_BGR2GRAY)\n",
    "right_gray = cv2.cvtColor(right_image, cv2.COLOR_BGR2GRAY)"
   ]
  },
  {
   "cell_type": "code",
   "execution_count": 5,
   "metadata": {
    "executionInfo": {
     "elapsed": 2,
     "status": "ok",
     "timestamp": 1713948245928,
     "user": {
      "displayName": "Saanvi Kulkarni",
      "userId": "06758947705949205524"
     },
     "user_tz": -330
    },
    "id": "rT1DQ_Vfbeum"
   },
   "outputs": [],
   "source": [
    "# Step 4: Set parameters for StereoBM\n",
    "# You can adjust these parameters according to your specific needs\n",
    "num_disparities = 64\n",
    "block_size = 21"
   ]
  },
  {
   "cell_type": "code",
   "execution_count": 6,
   "metadata": {
    "executionInfo": {
     "elapsed": 2,
     "status": "ok",
     "timestamp": 1713948245928,
     "user": {
      "displayName": "Saanvi Kulkarni",
      "userId": "06758947705949205524"
     },
     "user_tz": -330
    },
    "id": "GBlQsDW0bh5F"
   },
   "outputs": [],
   "source": [
    "# Step 5: Find disparity map\n",
    "stereo = cv2.StereoBM_create(numDisparities=num_disparities, blockSize=block_size)\n",
    "disparity_map = stereo.compute(left_gray, right_gray)\n"
   ]
  },
  {
   "cell_type": "code",
   "execution_count": 7,
   "metadata": {
    "colab": {
     "base_uri": "https://localhost:8080/",
     "height": 807
    },
    "executionInfo": {
     "elapsed": 854,
     "status": "ok",
     "timestamp": 1713948246780,
     "user": {
      "displayName": "Saanvi Kulkarni",
      "userId": "06758947705949205524"
     },
     "user_tz": -330
    },
    "id": "tUsodKaiblSk",
    "outputId": "5fe74f6b-74bc-498c-d878-e5429e8da40e"
   },
   "outputs": [
    {
     "data": {
      "image/png": "[encoded data removed]",
      "text/plain": [
       "<Figure size 1000x1000 with 1 Axes>"
      ]
     },
     "metadata": {},
     "output_type": "display_data"
    }
   ],
   "source": [
    "# Step 6: Display disparity map with normalization\n",
    "disparity_map_normalized = cv2.normalize(disparity_map, None, alpha=0, beta=255, norm_type=cv2.NORM_MINMAX, dtype=cv2.CV_8U)\n",
    "#cv2.imshow('Disparity Map', disparity_map_normalized)\n",
    "\n",
    "plt.figure(figsize=(10,10))\n",
    "plt.imshow(disparity_map_normalized, cmap = 'gray')\n",
    "plt.axis('off')\n",
    "plt.show()"
   ]
  },
  {
   "cell_type": "code",
   "execution_count": 8,
   "metadata": {
    "executionInfo": {
     "elapsed": 861,
     "status": "ok",
     "timestamp": 1713948253361,
     "user": {
      "displayName": "Saanvi Kulkarni",
      "userId": "06758947705949205524"
     },
     "user_tz": -330
    },
    "id": "Uhn27Y_dbwv0"
   },
   "outputs": [],
   "source": [
    "# Step 7: Find depth map if required (You may need camera calibration parameters for accurate depth)\n",
    "# Assuming baseline and focal length are known\n",
    "baseline = 10  # Example baseline in meters 0.1\n",
    "focal_length = 10  # Example focal length in pixels 0.8\n"
   ]
  },
  {
   "cell_type": "code",
   "execution_count": 9,
   "metadata": {
    "executionInfo": {
     "elapsed": 1,
     "status": "ok",
     "timestamp": 1713948253361,
     "user": {
      "displayName": "Saanvi Kulkarni",
      "userId": "06758947705949205524"
     },
     "user_tz": -330
    },
    "id": "froY0oolbzNU"
   },
   "outputs": [],
   "source": [
    "depth_map = (focal_length * baseline) / (disparity_map + 1e-6)  # Avoid division by zero\n",
    "depth_map = cv2.normalize(depth_map, None, alpha=0, beta=255, norm_type=cv2.NORM_MINMAX, dtype=cv2.CV_8U)"
   ]
  },
  {
   "cell_type": "code",
   "execution_count": 10,
   "metadata": {
    "colab": {
     "base_uri": "https://localhost:8080/",
     "height": 807
    },
    "executionInfo": {
     "elapsed": 2,
     "status": "ok",
     "timestamp": 1713948254130,
     "user": {
      "displayName": "Saanvi Kulkarni",
      "userId": "06758947705949205524"
     },
     "user_tz": -330
    },
    "id": "jLQZPZSPXyn1",
    "outputId": "11dc11f6-88af-4c3e-bdf1-b5ec0beb6ffa"
   },
   "outputs": [
    {
     "data": {
      "image/png": "[encoded data removed]",
      "text/plain": [
       "<Figure size 1000x1000 with 1 Axes>"
      ]
     },
     "metadata": {},
     "output_type": "display_data"
    }
   ],
   "source": [
    "# Step 8: Display depth map if required\n",
    "plt.figure(figsize=(10,10))\n",
    "plt.imshow(depth_map, cmap = 'gray')\n",
    "plt.axis('off')\n",
    "plt.show()"
   ]
  }
 ],
 "metadata": {
  "colab": {
   "authorship_tag": "ABX9TyPPMjdw2Rg+ATaaHvsKUWMw",
   "provenance": []
  },
  "kernelspec": {
   "display_name": "Python 3 (ipykernel)",
   "language": "python",
   "name": "python3"
  },
  "language_info": {
   "codemirror_mode": {
    "name": "ipython",
    "version": 3
   },
   "file_extension": ".py",
   "mimetype": "text/x-python",
   "name": "python",
   "nbconvert_exporter": "python",
   "pygments_lexer": "ipython3",
   "version": "3.12.3"
  }
 },
 "nbformat": 4,
 "nbformat_minor": 4
}
